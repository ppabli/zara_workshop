{
 "cells": [
  {
   "cell_type": "markdown",
   "id": "24fb548f-d790-4983-a80e-a8d53fcd284f",
   "metadata": {
    "tags": []
   },
   "source": [
    "\n",
    "#### Reto Boost 2024 ####\n",
    "\n",
    "\n",
    "#### Datos ####\n",
    "\n",
    "El objetivo de este reto es construir un algoritmo que ayude a mejorar la distribución de los productos desde los centros de distribución a las tiendas. Para ello, dispondremos de datos reales divididos en dos tablas:\n",
    "- \"workshop_ventas_cd2\"\n",
    "- \"workshop_ventas_tienda\"\n",
    "\n",
    "La primera contiene todos los datos que describen el estado de los centros de distribución:\n",
    "- \"id_centro_distribucion\": id que hace referencia a cada uno de los almacenes\n",
    "- \"sku_artc\": id que hace referencia a los distintos artículos de la compañia (lo que se tiene que distribuir)\n",
    "- \"ventas_previas\": Ventas del sku_art acumuladas desde que se lanzó al mercado hasta ahora.\n",
    "- \"cod_family\": id que hace referencia a la familia del producto (pantalones, sudaderas etc)\n",
    "- \"precio_base\": precio de venta del sku_artc\n",
    "- \"altos/mandas/anchura/cuellos_final\": Caracterísitcas descriptivas del sku_artc\n",
    "- \"preds_ecommerce\": Predicción de venta online (a nivel global) para ese sku_artc\n",
    "- \"preds_fisicas\": Predicción de venta en tienda física (a nivel global) para ese sku_artc\n",
    "- \"cumulative_sales_ecommerce/fisicas\": agregado de las predicciones de venta online y fisicas\n",
    "- \"stock\": stock disponible de ese artículo en el almacén\n",
    "\n",
    "La segunda contiene todos los datos que describen el estado de las tiendas que reciben mercancía de cada uno de los centros de distribución:\n",
    "- \"id_centro_distribucion\": id que hace referencia a cada uno de los almacenes\n",
    "- \"sku_artc\": id que hace referencia a los distintos artículos de la compañia (lo que se tiene que distribuir)\n",
    "- \"id_store\": id que hace referencia a las tiendas\n",
    "- \"ventas_previas\": Ventas del sku_artc en el id_store acumuladas desde que se lanzó al mercado hasta ahora.\n",
    "- \"max_stock\": stock máximo de la tienda\n",
    "- \"store_rfid_store\": stock del sku_artc en cuestión en la id_store en cuestión\n",
    "- \"cod_family\": id que hace referencia a la familia del producto (pantalones, sudaderas etc)\n",
    "- \"altos/mandas/anchura/cuellos_final\": Caracterísitcas descriptivas del sku_artc\n",
    "\n",
    "#### Objetivo ####\n",
    "\n",
    "El algoritmo propuesto por los diferentes grupos tendrá que proponer una forma de distribuir el stock de los centros de distribución a las tiendas. Este algoritmo tendrá que distribuir este stock a través de una flota de camiones finita (N, input de la función) con una capacidad finita también (X, input de la función). El algoritmo deberá distribuir este stock de manera que intente, de la mejor forma posible, cumplir con las siguientes condiciones:\n",
    "- Cumplir con la demanda futura (representada por las columnas de preds_ecommerce y preds_fisicas)\n",
    "- Maximizar la distribución de artículos \"muertos\". La vida de los artículos en las tiendas suele ser bastante efímera, venden durante un número de semanas no muy largo (quizás 3-4) y luego empieza a decaer porque se va a acabando el stock o, el mercado ya no demanda ese producto. A través de la venta acumulada y la predicción de la venta restante se puede estimar que artículos están ya al final de su vida, este algoritmo deberá maximizar la sustitución de estos artículos.\n",
    "- Equlibrio en tienda. Tenemos que mantener un cierto equilibrio en la tienda, que no todos los articulos sean de la misma familia ni del mismo precio etc\n",
    "- Minimizar canibalización. Tenemos que minimizar el efecto de tener articulos parecidos dentro de la misma tienda.\n"
   ]
  },
  {
   "cell_type": "code",
   "execution_count": 13,
   "id": "c3373e43-d3c6-4d54-b93e-f77bb41e5a46",
   "metadata": {
    "tags": []
   },
   "outputs": [],
   "source": [
    "import pandas as pd\n",
    "\n",
    "#Tablas disponibles para realizar el workshop\n",
    "ventas_cd2 = pd.read_parquet('data/workshop_ventas_cd2_v2.parquet')\n",
    "ventas_tienda = pd.read_parquet('data/workshop_ventas_tienda_v2.parquet')"
   ]
  },
  {
   "cell_type": "code",
   "execution_count": 14,
   "id": "5674d4f8-8edd-4e63-9394-511e034b9905",
   "metadata": {},
   "outputs": [],
   "source": [
    "ventas_cd2.to_csv(\"ventas_cd2.csv\")\n",
    "ventas_tienda.to_csv(\"ventas_tienda.csv\")"
   ]
  },
  {
   "cell_type": "code",
   "execution_count": null,
   "id": "fd244a0a-1191-45fa-a6fe-af7bd455288a",
   "metadata": {},
   "outputs": [],
   "source": []
  }
 ],
 "metadata": {
  "environment": {
   "kernel": "python3",
   "name": "common-cpu.m119",
   "type": "gcloud",
   "uri": "us-docker.pkg.dev/deeplearning-platform-release/gcr.io/base-cpu:m119"
  },
  "kernelspec": {
   "display_name": "Python 3",
   "language": "python",
   "name": "python3"
  },
  "language_info": {
   "codemirror_mode": {
    "name": "ipython",
    "version": 3
   },
   "file_extension": ".py",
   "mimetype": "text/x-python",
   "name": "python",
   "nbconvert_exporter": "python",
   "pygments_lexer": "ipython3",
   "version": "3.10.14"
  }
 },
 "nbformat": 4,
 "nbformat_minor": 5
}
